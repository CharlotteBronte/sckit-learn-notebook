{
 "cells": [
  {
   "cell_type": "code",
   "execution_count": null,
   "metadata": {
    "collapsed": true
   },
   "outputs": [],
   "source": [
    "%matplotlib inline\n"
   ]
  },
  {
   "cell_type": "code",
   "execution_count": null,
   "metadata": {
    "collapsed": true
   },
   "outputs": [],
   "source": [
    "from pylab import *\n",
    "x = linspace(0, 5, 10)\n",
    "y = x ** 2\n",
    "figure()\n",
    "plot(x, y, 'r')\n",
    "xlabel('x')\n",
    "ylabel('y')\n",
    "title('title')\n",
    "show()"
   ]
  },
  {
   "cell_type": "code",
   "execution_count": null,
   "metadata": {
    "collapsed": true
   },
   "outputs": [],
   "source": [
    "import numpy as np\n",
    "b = np.array(range(0,3,1))\n",
    "print(\"b:\")\n",
    "print(b)\n",
    "c = np.array(range(5,8,1))\n",
    "print(\"c:\")\n",
    "print(c)\n",
    "\n",
    "cstack_bc = np.column_stack((b,c))\n",
    "print(\"cstack_bc:\")\n",
    "print(cstack_bc)\n",
    "rstack_bc = + np.hstack((b,c))\n",
    "print(\"rstack_bc:\")\n",
    "print(rstack_bc)"
   ]
  },
  {
   "cell_type": "code",
   "execution_count": null,
   "metadata": {
    "collapsed": true
   },
   "outputs": [],
   "source": [
    "npr = np.r_[1:4,0,9]\n",
    "print(\"npr:\")\n",
    "print(npr)\n",
    "npc = np.c_[np.array([[1,2,3]]), 0, 0, np.array([[4,5,6]])]\n",
    "print(\"npc:\")\n",
    "print(npc)"
   ]
  },
  {
   "cell_type": "markdown",
   "metadata": {},
   "source": [
    "# broadcast\n",
    "## 前提\n",
    "* 执行的操作是element-wise的，因为只有这种按位操作才能容许矩阵size不匹配\n",
    "* 当操作的是两个array时，numpy会比较它们的shape,其必须满足如下情况\n",
    "  - 相等\n",
    "  - 其中一个为1，（可以看做常数)  \n",
    "\n",
    "## 目标  \n",
    "   让不同shape的array能够进行数学运算\n",
    "\n",
    "\n",
    "## 维度举例\n",
    "   * 可以进行broadcase的维度  \n",
    "     - 最后一维匹配  \n",
    "  <pre><code>\n",
    "    image (3d array): 256 x 256 x 3   \n",
    "    cale  (1d array):             3  \n",
    "    Result (3d array): 256 x 256 x 3 \n",
    " </pre></code> \n",
    "     - 任意一个维度为1（可扩展）  \n",
    "  <pre><code>\n",
    "\tA      (4d array):  8 x 1 x 6 x 1  \n",
    "\t\tB      (3d array):      7 x 1 x 5  \n",
    "\t\tResult (4d array):  8 x 7 x 6 x 5  \n",
    " </pre></code> \n",
    "   * boardcast不能进行  \n",
    "     - 一维矩阵维度不匹配  \n",
    "  <pre><code>\n",
    "\t\tA      (1d array):  3  \n",
    "\t\tB      (1d array):  4 # trailing dimensions do not match  \n",
    " </pre></code> \n",
    "     - 第二维不匹配  \n",
    "  <pre><code>\n",
    "\t\tA      (2d array):      2 x 1  \n",
    "\t\tB      (3d array):  8 x 4 x 3 # second from last dimensions mismatched   </pre></code> "
   ]
  },
  {
   "cell_type": "code",
   "execution_count": null,
   "metadata": {},
   "outputs": [],
   "source": [
    "import numpy as np\n",
    "\n",
    "x = np.arange(4)\n",
    "print(\"x:\")\n",
    "print(x)\n",
    "xx = x.reshape(4, 1)\n",
    "print(\"xx:\")\n",
    "print(xx)\n",
    "\n",
    "y = np.ones(5)\n",
    "print(\"y:\")\n",
    "print(y)\n",
    "z = np.ones((3, 4))\n",
    "print(\"z:\")\n",
    "print(z)\n",
    "\n",
    "# 可行的broadcast操作\n",
    "tmp = x + xx\n",
    "print(\"x+xx:\")\n",
    "print(tmp)\n",
    "tmp = x * xx\n",
    "print(\"x*xx:\")\n",
    "print(tmp)\n",
    "# error size\n",
    "#x+y\n",
    "\n",
    "# 可行的多维矩阵操作\n",
    "print(\"x shape\")\n",
    "print(x.shape)\n",
    "print(\"z shape\")\n",
    "print(z.shape)\n",
    "tmp = x - z\n",
    "print(\"x-z:\")\n",
    "print(tmp)\n",
    "\n"
   ]
  },
  {
   "cell_type": "markdown",
   "metadata": {},
   "source": [
    "# Indexing操作技巧\n",
    "  * 可以通过index返回值构建新的维度的数组\n",
    "  * 多维数组的index默认取第一维\n",
    "  * 可以给出多维的index，但是每个维度的index的size必须要一样"
   ]
  },
  {
   "cell_type": "code",
   "execution_count": null,
   "metadata": {
    "collapsed": true
   },
   "outputs": [],
   "source": [
    "import numpy as np\n",
    "\n",
    "a = np.arange(12) ** 2  # 0到12 的平方构成的array\n",
    "print(\"a:\")\n",
    "print(a)\n",
    "i = np.array([1, 1, 3, 8, 5])  # index的array\n",
    "print(\"a[i]:\")\n",
    "print(a[i])\n",
    "\n",
    "j = np.array([[3, 4], [9, 7]])  # 多维索引\n",
    "print(\"a[j]:\")  # 返回的数组维度和索引数组的维度一样\n",
    "print(a[j])\n",
    "\n",
    "#设置一个调色盘\n",
    "palette = np.array([[0, 0, 0],  # black\n",
    "                    [255, 0, 0],  # red\n",
    "                    [0, 255, 0],  # green\n",
    "                    [0, 0, 255],  # blue\n",
    "                    [255, 255, 255]])  # white\n",
    "print(\"palette:\")\n",
    "print(palette)\n",
    "#使用调色盘的颜色绘制一副简单的图像\n",
    "image_idx = np.array([[0, 1, 2, 0],\n",
    "                      [0, 3, 4, 0]])\n",
    "print(\"image_idx:\")\n",
    "print(image_idx)\n",
    "\n",
    "# 图像的size为 (2,4,3)\n",
    "image = palette[image_idx]\n",
    "print(\"image_shape:\")\n",
    "print(image.shape)\n",
    "print(\"image:\")\n",
    "print(image)\n",
    "\n",
    "##多维index例子\n",
    "a = np.arange(12).reshape(3, 4)\n",
    "print(\"a:\")\n",
    "print(a)\n",
    "\n",
    "i = np.array([[0, 1],  # 索引a的第一维\n",
    "              [1, 2]])\n",
    "print(\"i:\")\n",
    "print(i)\n",
    "\n",
    "j = np.array([[2, 1],  # 索引a的第二维\n",
    "              [3, 3]])\n",
    "print(\"j:\")\n",
    "print(j)\n",
    "\n",
    "print(\"a[i]:\")\n",
    "print(a[i])\n",
    "\n",
    "print(\"a[i，j]:\")\n",
    "print(a[i, j])  #i和j的维度要相同\n",
    "\n",
    "print(\"a[i，2]:\")\n",
    "print(a[i, 2])\n",
    "\n",
    "print(\"a[:]:\")\n",
    "print(a[:])\n",
    "print(\"a[:,j]:\")\n",
    "print(a[:, j])\n",
    "\n",
    "l = [i, j]  #也可以合并成一个数组取值,效果同a[i,j]\n",
    "print(\"a[l]:\")\n",
    "print(a[l])\n",
    "\n",
    "#注意不能把index的tuple作为array传入，这样会认为是要做第一维的索引\n",
    "#s = np.array( [i,j] )\n",
    "#a[s]"
   ]
  },
  {
   "cell_type": "markdown",
   "metadata": {},
   "source": [
    "* 使用index解决时间序列的问题\n",
    "  如何在有时序依赖的多维数据中找到最大值的问题"
   ]
  },
  {
   "cell_type": "code",
   "execution_count": 56,
   "metadata": {},
   "outputs": [
    {
     "name": "stdout",
     "output_type": "stream",
     "text": [
      "time:\n",
      "[  20.     51.25   82.5   113.75  145.  ]\n",
      "data:\n",
      "[[ 0.          0.84147098  0.90929743  0.14112001]\n",
      " [-0.7568025  -0.95892427 -0.2794155   0.6569866 ]\n",
      " [ 0.98935825  0.41211849 -0.54402111 -0.99999021]\n",
      " [-0.53657292  0.42016704  0.99060736  0.65028784]\n",
      " [-0.28790332 -0.96139749 -0.75098725  0.14987721]]\n",
      "ind:\n",
      "[2 0 3 1]\n",
      "time_max:\n",
      "[  82.5    20.    113.75   51.25]\n",
      "data_max:\n",
      "[ 0.98935825  0.84147098  0.99060736  0.6569866 ]\n",
      "data_max==data.max(axit=0):\n",
      "[array([ True,  True,  True,  True], dtype=bool)]\n",
      "np.all(data_max == data.max(axis=0)\n",
      "True\n"
     ]
    }
   ],
   "source": [
    "import numpy as np\n",
    "\n",
    "time = np.linspace(20, 145, 5)  # 时间轴是一个5维的向量\n",
    "print(\"time:\")\n",
    "print(time)\n",
    "\n",
    "data = np.sin(np.arange(20)).reshape(5, 4)  # 时间轴上面抽样了4个序列\n",
    "print(\"data:\")\n",
    "print(data)\n",
    "\n",
    "ind = data.argmax(axis=0)  # 找到每个序列的最大值对应的index\n",
    "print(\"ind:\")\n",
    "print(ind)\n",
    "\n",
    "time_max = time[ind]  # 最大值对应的时间序列的值\n",
    "print(\"time_max:\")\n",
    "print(time_max)\n",
    "\n",
    "data_max = data[ind, range(data.shape[1])] #通过index取得每个序列的最大值成为一个向量,注意range的用法\n",
    "print(\"data_max:\")\n",
    "print(data_max)\n",
    "\n",
    "print(\"data_max==data.max(axit=0):\")\n",
    "print([data_max==data.max(axis=0)])\n",
    "print(\"np.all(data_max == data.max(axis=0)\")\n",
    "print(np.all(data_max == data.max(axis=0)))\n"
   ]
  }
 ],
 "metadata": {
  "kernelspec": {
   "display_name": "Python 3",
   "language": "python",
   "name": "python3"
  },
  "language_info": {
   "codemirror_mode": {
    "name": "ipython",
    "version": 3
   },
   "file_extension": ".py",
   "mimetype": "text/x-python",
   "name": "python",
   "nbconvert_exporter": "python",
   "pygments_lexer": "ipython3",
   "version": "3.5.2"
  }
 },
 "nbformat": 4,
 "nbformat_minor": 1
}
