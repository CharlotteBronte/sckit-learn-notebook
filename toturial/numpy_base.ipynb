{
 "cells": [
  {
   "cell_type": "code",
   "execution_count": null,
   "metadata": {
    "collapsed": true
   },
   "outputs": [],
   "source": [
    "%matplotlib inline\n",
    "%matplotlib np"
   ]
  },
  {
   "cell_type": "code",
   "execution_count": null,
   "metadata": {
    "collapsed": true
   },
   "outputs": [],
   "source": [
    "from pylab import *\n",
    "x = linspace(0, 5, 10)\n",
    "y = x ** 2\n",
    "figure()\n",
    "plot(x, y, 'r')\n",
    "xlabel('x')\n",
    "ylabel('y')\n",
    "title('title')\n",
    "show()"
   ]
  },
  {
   "cell_type": "code",
   "execution_count": null,
   "metadata": {
    "collapsed": true
   },
   "outputs": [],
   "source": [
    "import numpy as np\n",
    "b = np.array(range(0,3,1))\n",
    "print(\"b:\")\n",
    "print(b)\n",
    "c = np.array(range(5,8,1))\n",
    "print(\"c:\")\n",
    "print(c)\n",
    "\n",
    "cstack_bc = np.column_stack((b,c))\n",
    "print(\"cstack_bc:\")\n",
    "print(cstack_bc)\n",
    "rstack_bc = + np.hstack((b,c))\n",
    "print(\"rstack_bc:\")\n",
    "print(rstack_bc)"
   ]
  },
  {
   "cell_type": "code",
   "execution_count": null,
   "metadata": {
    "collapsed": true
   },
   "outputs": [],
   "source": [
    "npr = np.r_[1:4,0,9]\n",
    "print(\"npr:\")\n",
    "print(npr)\n",
    "npc = np.c_[np.array([[1,2,3]]), 0, 0, np.array([[4,5,6]])]\n",
    "print(\"npc:\")\n",
    "print(npc)"
   ]
  },
  {
   "cell_type": "markdown",
   "metadata": {},
   "source": [
    "# broadcast\n",
    "## 前提\n",
    "* 执行的操作是element-wise的，因为只有这种按位操作才能容许矩阵size不匹配\n",
    "* 当操作的是两个array时，numpy会比较它们的shape,其必须满足如下情况\n",
    "  - 相等\n",
    "  - 其中一个为1，（可以看做常数)  \n",
    "\n",
    "## 目标  \n",
    "   让不同shape的array能够进行数学运算\n",
    "\n",
    "\n",
    "## 维度举例\n",
    "   * 可以进行broadcase的维度  \n",
    "     - 最后一维匹配  \n",
    "  <pre><code>\n",
    "    image (3d array): 256 x 256 x 3   \n",
    "    cale  (1d array):             3  \n",
    "    Result (3d array): 256 x 256 x 3 \n",
    " </pre></code> \n",
    "     - 任意一个维度为1（可扩展）  \n",
    "  <pre><code>\n",
    "\tA      (4d array):  8 x 1 x 6 x 1  \n",
    "\t\tB      (3d array):      7 x 1 x 5  \n",
    "\t\tResult (4d array):  8 x 7 x 6 x 5  \n",
    " </pre></code> \n",
    "   * boardcast不能进行  \n",
    "     - 一维矩阵维度不匹配  \n",
    "  <pre><code>\n",
    "\t\tA      (1d array):  3  \n",
    "\t\tB      (1d array):  4 # trailing dimensions do not match  \n",
    " </pre></code> \n",
    "     - 第二维不匹配  \n",
    "  <pre><code>\n",
    "\t\tA      (2d array):      2 x 1  \n",
    "\t\tB      (3d array):  8 x 4 x 3 # second from last dimensions mismatched   </pre></code> "
   ]
  },
  {
   "cell_type": "code",
   "execution_count": null,
   "metadata": {
    "collapsed": false
   },
   "outputs": [],
   "source": [
    "import numpy as np\n",
    "\n",
    "x = np.arange(4)\n",
    "print(\"x:\")\n",
    "print(x)\n",
    "xx = x.reshape(4, 1)\n",
    "print(\"xx:\")\n",
    "print(xx)\n",
    "\n",
    "y = np.ones(5)\n",
    "print(\"y:\")\n",
    "print(y)\n",
    "z = np.ones((3, 4))\n",
    "print(\"z:\")\n",
    "print(z)\n",
    "\n",
    "# 可行的broadcast操作\n",
    "tmp = x + xx\n",
    "print(\"x+xx:\")\n",
    "print(tmp)\n",
    "tmp = x * xx\n",
    "print(\"x*xx:\")\n",
    "print(tmp)\n",
    "# error size\n",
    "#x+y"
   ]
  }
 ],
 "metadata": {
  "kernelspec": {
   "display_name": "Python 3",
   "language": "python",
   "name": "python3"
  },
  "language_info": {
   "codemirror_mode": {
    "name": "ipython",
    "version": 3.0
   },
   "file_extension": ".py",
   "mimetype": "text/x-python",
   "name": "python",
   "nbconvert_exporter": "python",
   "pygments_lexer": "ipython3",
   "version": "3.5.2"
  }
 },
 "nbformat": 4,
 "nbformat_minor": 0
}